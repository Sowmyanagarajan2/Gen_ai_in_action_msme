{
  "nbformat": 4,
  "nbformat_minor": 0,
  "metadata": {
    "colab": {
      "provenance": []
    },
    "kernelspec": {
      "name": "python3",
      "display_name": "Python 3"
    },
    "language_info": {
      "name": "python"
    }
  },
  "cells": [
    {
      "cell_type": "code",
      "execution_count": 6,
      "metadata": {
        "colab": {
          "base_uri": "https://localhost:8080/"
        },
        "id": "JwUqkhauCVdq",
        "outputId": "cd8d939b-6871-466e-ce76-0876a94b09b0"
      },
      "outputs": [
        {
          "output_type": "stream",
          "name": "stdout",
          "text": [
            "Apple\n"
          ]
        }
      ],
      "source": [
        "#import libraries\n",
        "from sklearn.tree import DecisionTreeClassifier\n",
        "#step 2\n",
        "#features weight,texture ->weight = grams, texture(0=smooth,1=rough)\n",
        "X = [\n",
        "    [150,0],\n",
        "    [170,0],\n",
        "    [140,1],\n",
        "    [130,1]\n",
        "]\n",
        "#labels\n",
        "y = [0,0,1,1]\n",
        "#step 3 create a model\n",
        "model = DecisionTreeClassifier()\n",
        "\n",
        "#step 4\n",
        "model.fit(X,y)\n",
        "#step 5\n",
        "fruit= model.predict([[160,0]])\n",
        "\n",
        "#step 6\n",
        "if fruit[0]==0:\n",
        "    print(\"Apple\")\n",
        "else:\n",
        "    print(\"Orange\")\n"
      ]
    },
    {
      "cell_type": "code",
      "source": [],
      "metadata": {
        "id": "oNeEratecHY8"
      },
      "execution_count": null,
      "outputs": []
    },
    {
      "cell_type": "code",
      "source": [
        "import numpy as np\n",
        "#generator -> random noise and tries to create a number close to 5\n",
        "def generator(z):\n",
        "  return z *2 +3 #fake number\n",
        "def discriminator(x):\n",
        "  if abs(x-5)<1:\n",
        "    return \"Real\"\n",
        "  else:\n",
        "    return \"Fake\"\n",
        "#training simulation\n",
        "for step in range(5):\n",
        "  z = np.random.randn() #random noise\n",
        "fake_num = generator(z) # generator creates number\n",
        "result =discriminator(fake_num)\n",
        "\n",
        "print(f\"step {step +1}: Geneartor made {fake_num:.2f}-> discriminator says : {result}\")\n"
      ],
      "metadata": {
        "colab": {
          "base_uri": "https://localhost:8080/"
        },
        "id": "o_TxO2yYCtvF",
        "outputId": "f64cad40-d852-4af7-af24-7f37ffdf2ba3"
      },
      "execution_count": 18,
      "outputs": [
        {
          "output_type": "stream",
          "name": "stdout",
          "text": [
            "step 5: Geneartor made 4.12-> discriminator says : Real\n"
          ]
        }
      ]
    }
  ]
}